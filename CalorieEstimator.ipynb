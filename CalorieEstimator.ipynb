{
 "cells": [
  {
   "cell_type": "markdown",
   "id": "89587ea1",
   "metadata": {},
   "source": [
    "# Data Analysis for Calorie Prediction\n"
   ]
  },
  {
   "cell_type": "code",
   "execution_count": null,
   "id": "4dab3634",
   "metadata": {},
   "outputs": [],
   "source": [
    "import numpy as np\n",
    "import pandas as pd\n",
    "import matplotlib.pyplot as plt\n",
    "import seaborn as sb\n",
    "from sklearn.model_selection import train_test_split\n",
    "from sklearn.preprocessing import LabelEncoder, StandardScaler\n",
    "from sklearn import metrics\n",
    "from sklearn.svm import SVC\n",
    "from xgboost import XGBRegressor\n",
    "from sklearn.linear_model import LinearRegression, Lasso, Ridge\n",
    "from sklearn.ensemble import RandomForestRegressor\n",
    "\n",
    "import warnings\n",
    "warnings.filterwarnings('ignore')"
   ]
  },
  {
   "cell_type": "code",
   "execution_count": null,
   "id": "614c51ab",
   "metadata": {},
   "outputs": [],
   "source": [
    "a = pd.read_csv('calories.csv')\n",
    "b= pd.read_csv('exercise.csv')\n",
    "df=pd.concat([b,a['Calories']], axis=1)\n",
    "df.head()"
   ]
  },
  {
   "cell_type": "code",
   "execution_count": null,
   "id": "63768594",
   "metadata": {},
   "outputs": [],
   "source": [
    "print(df.shape)\n",
    "df.info()"
   ]
  },
  {
   "cell_type": "code",
   "execution_count": null,
   "id": "dc6f91a8",
   "metadata": {},
   "outputs": [],
   "source": [
    "df.describe()"
   ]
  },
  {
   "cell_type": "markdown",
   "id": "a3555489",
   "metadata": {},
   "source": [
    "# Data Visualization using Seaborn and Matplotlib"
   ]
  },
  {
   "cell_type": "code",
   "execution_count": null,
   "id": "46e77058",
   "metadata": {},
   "outputs": [],
   "source": [
    "sb.scatterplot(data=df,x='Height',y='Weight')\n",
    "plt.show()"
   ]
  },
  {
   "cell_type": "code",
   "execution_count": null,
   "id": "ef64b4a1",
   "metadata": {
    "scrolled": false
   },
   "outputs": [],
   "source": [
    "features = ['Age', 'Height', 'Weight', 'Duration']\n",
    "  \n",
    "plt.subplots(figsize=(15, 10))\n",
    "for i, col in enumerate(features):\n",
    "    plt.subplot(2, 2, i + 1)\n",
    "    x = df.sample(1000)\n",
    "    sb.scatterplot(data=df,x=col, y='Calories')\n",
    "plt.tight_layout()\n",
    "plt.show()"
   ]
  },
  {
   "cell_type": "code",
   "execution_count": null,
   "id": "334222a5",
   "metadata": {},
   "outputs": [],
   "source": [
    "features = df.select_dtypes(include='float').columns\n",
    "  \n",
    "plt.subplots(figsize=(15, 10))\n",
    "for i, col in enumerate(features):\n",
    "    plt.subplot(2, 3, i + 1)\n",
    "    sb.distplot(df[col])\n",
    "plt.tight_layout()\n",
    "plt.show()"
   ]
  },
  {
   "cell_type": "code",
   "execution_count": null,
   "id": "37b9fa56",
   "metadata": {},
   "outputs": [],
   "source": [
    "df.replace({'male': 0, 'female': 1},\n",
    "           inplace=True)\n",
    "df.head()"
   ]
  },
  {
   "cell_type": "code",
   "execution_count": null,
   "id": "cc8f5aac",
   "metadata": {},
   "outputs": [],
   "source": [
    "plt.figure(figsize=(8, 8))\n",
    "sb.heatmap(df.corr() > 0.9,\n",
    "           annot=True,\n",
    "           cbar=False)\n",
    "plt.show()"
   ]
  },
  {
   "cell_type": "markdown",
   "id": "7c807c97",
   "metadata": {},
   "source": [
    "# Adjusting Data According to our need (Optimization)"
   ]
  },
  {
   "cell_type": "code",
   "execution_count": null,
   "id": "4433e271",
   "metadata": {},
   "outputs": [],
   "source": [
    "to_remove = ['Weight', 'Duration']\n",
    "df.drop(to_remove, axis=1, inplace=True)"
   ]
  },
  {
   "cell_type": "code",
   "execution_count": null,
   "id": "aff035b9",
   "metadata": {},
   "outputs": [],
   "source": [
    "features = df.drop(['User_ID', 'Calories'], axis=1)\n",
    "target = df['Calories'].values\n",
    "  \n",
    "X_train, X_val,\\\n",
    "    Y_train, Y_val = train_test_split(features, target,\n",
    "                                      test_size=0.3)\n",
    "X_train.shape, X_val.shape"
   ]
  },
  {
   "cell_type": "markdown",
   "id": "daff4c86",
   "metadata": {},
   "source": [
    "# Using Machine Learning models to predict Calories Burned"
   ]
  },
  {
   "cell_type": "code",
   "execution_count": null,
   "id": "15641e1a",
   "metadata": {},
   "outputs": [],
   "source": [
    "# Normalizing the features for stable and fast training.\n",
    "scaler = StandardScaler()\n",
    "X_train = scaler.fit_transform(X_train)\n",
    "X_val = scaler.transform(X_val)\n",
    "from sklearn.metrics import mean_absolute_error as mae\n",
    "models = [LinearRegression(), XGBRegressor(),\n",
    "          Lasso(), RandomForestRegressor(), Ridge()] #Using 5 machine learning models\n",
    "  \n",
    "for i in range(5):\n",
    "    models[i].fit(X_train, Y_train)\n",
    "  \n",
    "    print(f'{models[i]} : ')\n",
    "  \n",
    "    train_preds = models[i].predict(X_train)\n",
    "    print('Training Error : ', mae(Y_train, train_preds))\n",
    "  \n",
    "    val_preds = models[i].predict(X_val)\n",
    "    print('Validation Error : ', mae(Y_val, val_preds))\n",
    "    print()"
   ]
  },
  {
   "cell_type": "markdown",
   "id": "a4dc1cea",
   "metadata": {},
   "source": [
    "This result shows us that how accurately can we measure the"
   ]
  }
 ],
 "metadata": {
  "kernelspec": {
   "display_name": "Python 3 (ipykernel)",
   "language": "python",
   "name": "python3"
  },
  "language_info": {
   "codemirror_mode": {
    "name": "ipython",
    "version": 3
   },
   "file_extension": ".py",
   "mimetype": "text/x-python",
   "name": "python",
   "nbconvert_exporter": "python",
   "pygments_lexer": "ipython3",
   "version": "3.10.9"
  }
 },
 "nbformat": 4,
 "nbformat_minor": 5
}
